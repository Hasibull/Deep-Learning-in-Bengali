{
 "cells": [
  {
   "cell_type": "markdown",
   "metadata": {},
   "source": [
    "<h1>Numpy - নিয়ে যতো কিছু</h1>\n",
    "<b>Numpy এর পূর্ণরূপ হচ্ছে Numerical Python অর্থাৎ python এ বিভিন্ন ম্যাথম্যাটিক্যাল হিসাব নিকাশ করার জন্য library টি ব্যাবহার করা হয়ে থাকে।</b><br>\n",
    "<i>যে কোন Library এর ফাংশনালিটি ব্যাবহার করার আগে Library টি প্রোগ্রামে import করে নিতে হইয়!</i><br>\n",
    "import করার জন্য সিনট্যাক্স হলো ঃ <br>\n",
    "<code>\n",
    "import library_name\n",
    "</code>"
   ]
  },
  {
   "cell_type": "code",
   "execution_count": 1,
   "metadata": {},
   "outputs": [],
   "source": [
    "import numpy as np"
   ]
  },
  {
   "cell_type": "code",
   "execution_count": null,
   "metadata": {},
   "outputs": [],
   "source": []
  }
 ],
 "metadata": {
  "kernelspec": {
   "display_name": "base",
   "language": "python",
   "name": "python3"
  },
  "language_info": {
   "codemirror_mode": {
    "name": "ipython",
    "version": 3
   },
   "file_extension": ".py",
   "mimetype": "text/x-python",
   "name": "python",
   "nbconvert_exporter": "python",
   "pygments_lexer": "ipython3",
   "version": "3.9.13"
  },
  "orig_nbformat": 4
 },
 "nbformat": 4,
 "nbformat_minor": 2
}
